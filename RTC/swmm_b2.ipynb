{
 "cells": [
  {
   "cell_type": "code",
   "execution_count": 25,
   "id": "7110160b-167e-4436-8aa2-4a8aad264945",
   "metadata": {
    "tags": []
   },
   "outputs": [],
   "source": [
    "from swmm_api import read_out_file, SwmmOutput\n",
    "from swmm_api import read_rpt_file, SwmmReport\n",
    "import matplotlib.pyplot as plt\n",
    "import numpy as np\n",
    "import pandas as pd\n",
    "import scipy\n",
    "import datetime\n",
    "#from scipy.optimize import minimize"
   ]
  },
  {
   "cell_type": "code",
   "execution_count": 26,
   "id": "8a89c674-22b4-41ae-9f31-00a62e5948b8",
   "metadata": {
    "tags": []
   },
   "outputs": [],
   "source": [
    "out = read_out_file('RTC/data/Dean Town.out')   # type: swmm_api.SwmmOut\n",
    "output_data = out.to_frame()  # type: pandas.DataFrame\n",
    "# display(output_data)"
   ]
  },
  {
   "cell_type": "code",
   "execution_count": 27,
   "id": "05f37b7c",
   "metadata": {},
   "outputs": [],
   "source": [
    "node_naming = {}\n",
    "nodes = ['cso_1','cso_10','cso_2a','cso_20','cso_21a','cso_2b','cso_21b']\n",
    "node_new_names = [\"CSO_1\", \"CSO_10\", \"CSO_2\", \"CSO_20\", \"CSO_21\", \"CSO_pump_2\", \"CSO_pump_21\"]\n",
    "for i, node in enumerate(nodes):\n",
    "    node_naming[node] = node_new_names[i]\n"
   ]
  },
  {
   "cell_type": "code",
   "execution_count": 28,
   "id": "ad026111",
   "metadata": {},
   "outputs": [],
   "source": [
    "save_data = []\n",
    "model_data = pd.DataFrame()\n",
    "for i, node in enumerate(node_naming.keys()):\n",
    "    model_data[node_naming[node]] = output_data['node'][node]['total_inflow']\n",
    "model_data_volume = model_data * 15 * 60\n",
    "model_data_volume.to_excel(f'RTC/data/model_data.xlsx')"
   ]
  },
  {
   "cell_type": "code",
   "execution_count": 29,
   "id": "8505da4d-a9bf-421e-88ac-fd0cb510dc75",
   "metadata": {
    "tags": []
   },
   "outputs": [],
   "source": [
    "# rpt = read_rpt_file('RTC/data/Dean Town.rpt')  # type: swmm_api.SwmmReport\n",
    "# outfall= rpt.outfall_loading_summary  # type: pandas.DataFrame\n",
    "# # df\n",
    "# outfall"
   ]
  },
  {
   "cell_type": "code",
   "execution_count": 30,
   "id": "bcbd397b-cbc1-40b9-8495-5e1949337d10",
   "metadata": {
    "tags": []
   },
   "outputs": [],
   "source": [
    "# ## Summary\n",
    "# outfall"
   ]
  },
  {
   "cell_type": "code",
   "execution_count": 31,
   "id": "dade083e-6c57-4ce4-8bf9-0df3cd10126c",
   "metadata": {
    "tags": []
   },
   "outputs": [],
   "source": [
    "# Anuual volume\n",
    "#outfall['Total_Volume_10^6 ltr'].plot(kind='bar')"
   ]
  },
  {
   "cell_type": "code",
   "execution_count": 32,
   "id": "8f010a8d-8b20-4b0a-be57-ae6b7738cf0e",
   "metadata": {
    "tags": []
   },
   "outputs": [],
   "source": [
    "# cso = outfall.drop(['Wastewater_Treatment_Plant'])\n",
    "# cso['Total_Volume_10^6 ltr'].plot(kind='bar')\n"
   ]
  },
  {
   "cell_type": "code",
   "execution_count": 33,
   "id": "43f7deee-9c09-4ac1-b42c-ca2eedcb7ff9",
   "metadata": {
    "tags": []
   },
   "outputs": [],
   "source": [
    "# plt.figure()\n",
    "# #plt.plot(df['outflow']['cso_1'].values, label='CSO1')\n",
    "# node = ['cso_1','cso_10','cso_2a','cso_20','cso_21a','cso_2b','cso_2b']\n",
    "# data = [46180, 0, 54148, 22325, 3920, 123234, 2525]\n",
    "\n",
    "# for i, node_i in enumerate(node):\n",
    "#     plt.bar(i-0.5, df['node'][node_i]['total_inflow'].sum(), width=0.25)\n",
    "#     plt.bar(i+0.5, data[i], width=0.25)\n",
    "# plt.ylabel('Outflow Volume (10^3 m3)')\n",
    "# plt.xlabel('CSO')\n",
    "\n",
    "\n",
    "# #df['node']['cso_1']['volume'].plot\n",
    "# #df['node']['cso_1']['volume'].plot()"
   ]
  },
  {
   "cell_type": "code",
   "execution_count": null,
   "id": "31f12c55-992d-40cb-a370-4e4bda645542",
   "metadata": {
    "tags": []
   },
   "outputs": [],
   "source": []
  },
  {
   "cell_type": "code",
   "execution_count": null,
   "id": "c2588ca0-84bc-47c0-8585-04ab82aae9ba",
   "metadata": {},
   "outputs": [],
   "source": []
  }
 ],
 "metadata": {
  "kernelspec": {
   "display_name": "Python 3 (ipykernel)",
   "language": "python",
   "name": "python3"
  },
  "language_info": {
   "codemirror_mode": {
    "name": "ipython",
    "version": 3
   },
   "file_extension": ".py",
   "mimetype": "text/x-python",
   "name": "python",
   "nbconvert_exporter": "python",
   "pygments_lexer": "ipython3",
   "version": "3.11.0"
  }
 },
 "nbformat": 4,
 "nbformat_minor": 5
}
