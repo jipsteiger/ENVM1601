{
 "cells": [
  {
   "cell_type": "code",
   "execution_count": null,
   "metadata": {},
   "outputs": [],
   "source": [
    "#split 50% training, 20% validiation, #30% for testing (LAST PART)\n",
    "# NORMALISE VERYTHGINT TO BETWEEN 0 and 1\n",
    "# "
   ]
  },
  {
   "cell_type": "code",
   "execution_count": 19,
   "metadata": {},
   "outputs": [],
   "source": [
    "import pandas as pd\n",
    "import scipy as sc\n",
    "import matplotlib.pyplot as plt\n",
    "import numpy as np\n",
    "import datetime as dt\n",
    "\n",
    "\n",
    "#failure_test = pd.read_csv(r'Failure_modelling\\Failure_Data\\failure_data.csv', index_col=0)\n",
    "#pipe_test= pd.read_csv(r'Failure_modelling\\Failure_Data\\pipe_data.csv', index_col=0)\n",
    "failure_training = pd.read_csv(r'Failure_modelling\\Failure_Data\\failure_train.csv', index_col=0)\n",
    "pipe_train = pd.read_csv(r'Failure_modelling\\Failure_Data\\pipes_train.csv', index_col=0)\n",
    "\n",
    "pipe_train.Aanlegjaar = pd.to_datetime(pipe_train.Aanlegjaar, format='%Y')\n",
    "\n",
    "failure_training.storing_melddatum = pd.to_datetime(failure_training.storing_melddatum)\n",
    "failure_training.storing_aanlegjaar = pd.to_datetime(failure_training.storing_aanlegjaar)\n",
    "\n",
    "failure_train = failure_training[failure_training.storing_melddatum.dt.year < 2019]"
   ]
  },
  {
   "cell_type": "code",
   "execution_count": 86,
   "metadata": {},
   "outputs": [
    {
     "data": {
      "image/png": "[encoded data removed]",
      "text/plain": [
       "<Figure size 640x480 with 1 Axes>"
      ]
     },
     "metadata": {},
     "output_type": "display_data"
    }
   ],
   "source": [
    "failure_rate_years = {}\n",
    "for year in range(2010, 2019):\n",
    "    failures_in_year = failure_train[failure_train.storing_melddatum.dt.year == year]\n",
    "    failures_count_age_diameter = pd.DataFrame(failures_in_year.groupby(['age_at_failure', 'Diameter_group'])['storing_materiaal'].count()).reset_index()\n",
    "    failures_count_age_diameter.rename(columns={'storing_materiaal': 'failure_count'}, inplace=True)\n",
    "    \n",
    "    pipe_train['age_in_year'] = year - pipe_train.Aanlegjaar.dt.year\n",
    "    pipes_sum_length_age_diameter = pd.DataFrame(pipe_train.groupby(['age_in_year', 'Diameter_group'])['Lengte'].sum() / 1000).reset_index()\n",
    "    failure_overview = pd.merge(failures_count_age_diameter, pipes_sum_length_age_diameter, left_on=['age_at_failure', 'Diameter_group'], right_on=['age_in_year', 'Diameter_group'], how='left')\n",
    "    failure_overview.drop(['age_in_year'], axis=1, inplace=True)\n",
    "    failure_overview['failure_rate_age'] = failure_overview['failure_count'] / failure_overview['Lengte']\n",
    "    failure_rate_years[year] = failure_overview\n",
    "plt.plot(failure_overview.age_at_failure, failure_overview.failure_rate_age, 'rx')\n",
    "plt.yscale('log')\n",
    "plt.xlabel('Age at Failure')\n",
    "plt.ylabel('Failure Rate')\n",
    "plt.title('Failure Rate by Age at Failure')\n",
    "plt.show()"
   ]
  },
  {
   "cell_type": "code",
   "execution_count": 69,
   "metadata": {},
   "outputs": [
    {
     "data": {
      "text/html": [
       "<div>\n",
       "<style scoped>\n",
       "    .dataframe tbody tr th:only-of-type {\n",
       "        vertical-align: middle;\n",
       "    }\n",
       "\n",
       "    .dataframe tbody tr th {\n",
       "        vertical-align: top;\n",
       "    }\n",
       "\n",
       "    .dataframe thead th {\n",
       "        text-align: right;\n",
       "    }\n",
       "</style>\n",
       "<table border=\"1\" class=\"dataframe\">\n",
       "  <thead>\n",
       "    <tr style=\"text-align: right;\">\n",
       "      <th></th>\n",
       "      <th>age_at_failure</th>\n",
       "      <th>Diameter_group</th>\n",
       "      <th>failure_count</th>\n",
       "      <th>Lengte</th>\n",
       "      <th>failure_rate_age</th>\n",
       "    </tr>\n",
       "  </thead>\n",
       "  <tbody>\n",
       "    <tr>\n",
       "      <th>0</th>\n",
       "      <td>22.0</td>\n",
       "      <td>0 - 160</td>\n",
       "      <td>2</td>\n",
       "      <td>71.662315</td>\n",
       "      <td>0.027909</td>\n",
       "    </tr>\n",
       "    <tr>\n",
       "      <th>1</th>\n",
       "      <td>22.0</td>\n",
       "      <td>160 - 300</td>\n",
       "      <td>1</td>\n",
       "      <td>23.486603</td>\n",
       "      <td>0.042577</td>\n",
       "    </tr>\n",
       "    <tr>\n",
       "      <th>2</th>\n",
       "      <td>25.0</td>\n",
       "      <td>0 - 160</td>\n",
       "      <td>2</td>\n",
       "      <td>41.426505</td>\n",
       "      <td>0.048278</td>\n",
       "    </tr>\n",
       "    <tr>\n",
       "      <th>3</th>\n",
       "      <td>27.0</td>\n",
       "      <td>0 - 160</td>\n",
       "      <td>1</td>\n",
       "      <td>32.227962</td>\n",
       "      <td>0.031029</td>\n",
       "    </tr>\n",
       "    <tr>\n",
       "      <th>4</th>\n",
       "      <td>28.0</td>\n",
       "      <td>0 - 160</td>\n",
       "      <td>3</td>\n",
       "      <td>103.292802</td>\n",
       "      <td>0.029044</td>\n",
       "    </tr>\n",
       "  </tbody>\n",
       "</table>\n",
       "</div>"
      ],
      "text/plain": [
       "   age_at_failure Diameter_group  failure_count      Lengte  failure_rate_age\n",
       "0            22.0        0 - 160              2   71.662315          0.027909\n",
       "1            22.0      160 - 300              1   23.486603          0.042577\n",
       "2            25.0        0 - 160              2   41.426505          0.048278\n",
       "3            27.0        0 - 160              1   32.227962          0.031029\n",
       "4            28.0        0 - 160              3  103.292802          0.029044"
      ]
     },
     "execution_count": 69,
     "metadata": {},
     "output_type": "execute_result"
    }
   ],
   "source": [
    "failure_overview.head(5)"
   ]
  },
  {
   "cell_type": "code",
   "execution_count": 49,
   "metadata": {},
   "outputs": [
    {
     "data": {
      "text/html": [
       "<div>\n",
       "<style scoped>\n",
       "    .dataframe tbody tr th:only-of-type {\n",
       "        vertical-align: middle;\n",
       "    }\n",
       "\n",
       "    .dataframe tbody tr th {\n",
       "        vertical-align: top;\n",
       "    }\n",
       "\n",
       "    .dataframe thead th {\n",
       "        text-align: right;\n",
       "    }\n",
       "</style>\n",
       "<table border=\"1\" class=\"dataframe\">\n",
       "  <thead>\n",
       "    <tr style=\"text-align: right;\">\n",
       "      <th></th>\n",
       "      <th></th>\n",
       "      <th>Lengte</th>\n",
       "    </tr>\n",
       "    <tr>\n",
       "      <th>age_in_year</th>\n",
       "      <th>Diameter_group</th>\n",
       "      <th></th>\n",
       "    </tr>\n",
       "  </thead>\n",
       "  <tbody>\n",
       "    <tr>\n",
       "      <th>11</th>\n",
       "      <th>0 - 160</th>\n",
       "      <td>1.106446</td>\n",
       "    </tr>\n",
       "    <tr>\n",
       "      <th>16</th>\n",
       "      <th>0 - 160</th>\n",
       "      <td>0.006210</td>\n",
       "    </tr>\n",
       "    <tr>\n",
       "      <th rowspan=\"2\" valign=\"top\">17</th>\n",
       "      <th>0 - 160</th>\n",
       "      <td>0.229768</td>\n",
       "    </tr>\n",
       "    <tr>\n",
       "      <th>160 - 300</th>\n",
       "      <td>0.115500</td>\n",
       "    </tr>\n",
       "    <tr>\n",
       "      <th>18</th>\n",
       "      <th>0 - 160</th>\n",
       "      <td>1.510660</td>\n",
       "    </tr>\n",
       "  </tbody>\n",
       "</table>\n",
       "</div>"
      ],
      "text/plain": [
       "                              Lengte\n",
       "age_in_year Diameter_group          \n",
       "11          0 - 160         1.106446\n",
       "16          0 - 160         0.006210\n",
       "17          0 - 160         0.229768\n",
       "            160 - 300       0.115500\n",
       "18          0 - 160         1.510660"
      ]
     },
     "execution_count": 49,
     "metadata": {},
     "output_type": "execute_result"
    }
   ],
   "source": [
    "pipes_sum_length_age_diameter.head(5)"
   ]
  },
  {
   "cell_type": "code",
   "execution_count": 50,
   "metadata": {},
   "outputs": [
    {
     "data": {
      "text/html": [
       "<div>\n",
       "<style scoped>\n",
       "    .dataframe tbody tr th:only-of-type {\n",
       "        vertical-align: middle;\n",
       "    }\n",
       "\n",
       "    .dataframe tbody tr th {\n",
       "        vertical-align: top;\n",
       "    }\n",
       "\n",
       "    .dataframe thead th {\n",
       "        text-align: right;\n",
       "    }\n",
       "</style>\n",
       "<table border=\"1\" class=\"dataframe\">\n",
       "  <thead>\n",
       "    <tr style=\"text-align: right;\">\n",
       "      <th></th>\n",
       "      <th>age_at_failure</th>\n",
       "      <th>Diameter_group</th>\n",
       "      <th>storing_materiaal</th>\n",
       "    </tr>\n",
       "  </thead>\n",
       "  <tbody>\n",
       "    <tr>\n",
       "      <th>0</th>\n",
       "      <td>22.0</td>\n",
       "      <td>0 - 160</td>\n",
       "      <td>2</td>\n",
       "    </tr>\n",
       "    <tr>\n",
       "      <th>1</th>\n",
       "      <td>22.0</td>\n",
       "      <td>160 - 300</td>\n",
       "      <td>1</td>\n",
       "    </tr>\n",
       "    <tr>\n",
       "      <th>2</th>\n",
       "      <td>25.0</td>\n",
       "      <td>0 - 160</td>\n",
       "      <td>2</td>\n",
       "    </tr>\n",
       "    <tr>\n",
       "      <th>3</th>\n",
       "      <td>27.0</td>\n",
       "      <td>0 - 160</td>\n",
       "      <td>1</td>\n",
       "    </tr>\n",
       "    <tr>\n",
       "      <th>4</th>\n",
       "      <td>28.0</td>\n",
       "      <td>0 - 160</td>\n",
       "      <td>3</td>\n",
       "    </tr>\n",
       "  </tbody>\n",
       "</table>\n",
       "</div>"
      ],
      "text/plain": [
       "   age_at_failure Diameter_group  storing_materiaal\n",
       "0            22.0        0 - 160                  2\n",
       "1            22.0      160 - 300                  1\n",
       "2            25.0        0 - 160                  2\n",
       "3            27.0        0 - 160                  1\n",
       "4            28.0        0 - 160                  3"
      ]
     },
     "execution_count": 50,
     "metadata": {},
     "output_type": "execute_result"
    }
   ],
   "source": [
    "failures_count_age_diameter.head(5)"
   ]
  }
 ],
 "metadata": {
  "kernelspec": {
   "display_name": "py311",
   "language": "python",
   "name": "python3"
  },
  "language_info": {
   "codemirror_mode": {
    "name": "ipython",
    "version": 3
   },
   "file_extension": ".py",
   "mimetype": "text/x-python",
   "name": "python",
   "nbconvert_exporter": "python",
   "pygments_lexer": "ipython3",
   "version": "3.11.0"
  }
 },
 "nbformat": 4,
 "nbformat_minor": 2
}
