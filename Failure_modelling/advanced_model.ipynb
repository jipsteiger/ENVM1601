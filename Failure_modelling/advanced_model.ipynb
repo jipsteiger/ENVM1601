{
 "cells": [
  {
   "cell_type": "code",
   "execution_count": null,
   "metadata": {},
   "outputs": [],
   "source": [
    "#split 50% training, 20% validiation, #30% for testing (LAST PART)\n",
    "# NORMALISE VERYTHGINT TO BETWEEN 0 and 1\n",
    "# "
   ]
  }
 ],
 "metadata": {
  "language_info": {
   "name": "python"
  }
 },
 "nbformat": 4,
 "nbformat_minor": 2
}
