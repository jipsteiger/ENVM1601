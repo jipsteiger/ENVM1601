{
 "cells": [
  {
   "cell_type": "code",
   "execution_count": 1,
   "metadata": {},
   "outputs": [],
   "source": [
    "\n",
    "import pandas as pd\n",
    "import scipy as sc\n",
    "import matplotlib.pyplot as plt\n",
    "import numpy as np\n",
    "import datetime as dt\n",
    "from lifelines import KaplanMeierFitter\n",
    "\n",
    "\n",
    "from itertools import cycle\n",
    "\n",
    "\n",
    "failure_data = pd.read_csv(r'Failure_modelling\\Failure_Data\\failure_data.csv', index_col=0)\n",
    "pipe_data = pd.read_csv(r'Failure_modelling\\Failure_Data\\pipe_data.csv', index_col=0)"
   ]
  }
 ],
 "metadata": {
  "kernelspec": {
   "display_name": "py311",
   "language": "python",
   "name": "python3"
  },
  "language_info": {
   "codemirror_mode": {
    "name": "ipython",
    "version": 3
   },
   "file_extension": ".py",
   "mimetype": "text/x-python",
   "name": "python",
   "nbconvert_exporter": "python",
   "pygments_lexer": "ipython3",
   "version": "3.11.0"
  }
 },
 "nbformat": 4,
 "nbformat_minor": 2
}
