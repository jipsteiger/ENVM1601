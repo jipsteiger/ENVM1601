{
 "cells": [
  {
   "cell_type": "code",
   "execution_count": 186,
   "metadata": {},
   "outputs": [],
   "source": [
    "\n",
    "import pandas as pd\n",
    "import scipy as sc\n",
    "import matplotlib.pyplot as plt\n",
    "import numpy as np\n",
    "import datetime as dt\n",
    "\n",
    "\n",
    "failure_data = pd.read_csv(r'Failure_modelling\\Failure_Data\\failure_data.csv', index_col=0)\n",
    "pipe_data = pd.read_csv(r'Failure_modelling\\Failure_Data\\pipe_data.csv', index_col=0)"
   ]
  },
  {
   "cell_type": "code",
   "execution_count": 187,
   "metadata": {},
   "outputs": [
    {
     "name": "stdout",
     "output_type": "stream",
     "text": [
      "         Aanlegjaar      Lengte  Diameter Materiaalcode\n",
      "2166783        1974  368.595185       200        MAT_AC\n",
      "2110184        1990    0.500100       150        MAT_AC\n",
      "2144900        1989   35.832798       200        MAT_AC\n",
      "2104664        1979   15.248820       100        MAT_AC\n",
      "2182521        1973  280.118530       100        MAT_AC\n",
      "   storing_materiaal  storing_diameter    storing_melddatum  \\\n",
      "4             MAT_AC              50.0  2010-03-10 00:00:00   \n",
      "7             MAT_AC             160.0  2010-11-19 00:00:00   \n",
      "8             MAT_AC              50.0  2010-04-16 00:00:00   \n",
      "9             MAT_AC             100.0  2010-11-15 00:00:00   \n",
      "10            MAT_AC             100.0  2010-07-19 00:00:00   \n",
      "\n",
      "   storing_aanlegjaar  age_at_failure  \n",
      "4          1960-01-01            50.0  \n",
      "7          1963-01-01            47.0  \n",
      "8          1969-01-01            41.0  \n",
      "9          1955-01-01            55.0  \n",
      "10         1968-01-01            42.0  \n"
     ]
    }
   ],
   "source": [
    "ac_pipes = pipe_data[pipe_data.Materiaalcode == 'MAT_AC']\n",
    "ac_failures = failure_data[failure_data.storing_materiaal == 'MAT_AC']\n",
    "model_failures = ac_failures[['storing_materiaal', 'storing_diameter', 'storing_melddatum', 'storing_aanlegjaar', 'age_at_failure']].copy()\n",
    "model_failures.loc[:,'age_at_failure'] = model_failures.loc[:,'age_at_failure'].astype(int)\n",
    "model_pipes = ac_pipes[['Aanlegjaar', 'Lengte', 'Diameter', 'Materiaalcode']].copy()\n",
    "model_pipes = model_pipes[model_pipes.Aanlegjaar > 1]\n",
    "print(model_pipes.head())\n",
    "print(model_failures.head())\n"
   ]
  },
  {
   "cell_type": "code",
   "execution_count": 188,
   "metadata": {},
   "outputs": [],
   "source": [
    "diameter_groups = [[0, 160],\n",
    "                   [160, 300],\n",
    "                   [300, 1000],\n",
    "                   [1000, 10000]]\n",
    "\n",
    "construction_year_groups = []\n",
    "for i in range(1920, 2000 + 1, 10):\n",
    "    construction_year_groups.append([i, i+10])\n",
    "\n",
    "model_pipes['Diameter_group'] = None\n",
    "model_failures['Diameter_group'] = None\n",
    "model_pipes['Construction_year_group'] = None\n",
    "model_failures['Construction_year_group'] = None\n",
    "model_pipes['Group_number'] = None\n",
    "model_failures['Group_number'] = None\n",
    "model_pipes['Group_id'] = None\n",
    "model_failures['Group_id'] = None\n",
    "\n",
    "group_number = 1\n",
    "for diameter_group in diameter_groups:\n",
    "    diameter_mask_failures = (model_failures.storing_diameter >= diameter_group[0]) & (model_failures.storing_diameter < diameter_group[1])\n",
    "    model_failures.loc[diameter_mask_failures, 'Diameter_group'] = f'{diameter_group[0]} - {diameter_group[1]}'\n",
    "    \n",
    "    diameter_mask_pipes = (model_pipes.Diameter >= diameter_group[0]) & (model_pipes.Diameter < diameter_group[1])\n",
    "    model_pipes.loc[diameter_mask_pipes, 'Diameter_group'] = f'{diameter_group[0]} - {diameter_group[1]}'\n",
    "\n",
    "    for construction_year_group in construction_year_groups:\n",
    "        construction_year_mask_failures = (pd.to_datetime(model_failures.storing_aanlegjaar, format='%Y-%m-%d').dt.year>= construction_year_group[0]) & (pd.to_datetime(model_failures.storing_aanlegjaar, format='%Y-%m-%d').dt.year < construction_year_group[1])\n",
    "        model_failures.loc[construction_year_mask_failures, 'Construction_year_group'] = f'{construction_year_group[0]} - {construction_year_group[1]}'\n",
    "        model_failures.loc[(diameter_mask_failures & construction_year_mask_failures), 'Group_number'] = group_number\n",
    "        \n",
    "        model_failures.loc[(diameter_mask_failures & construction_year_mask_failures), 'Group_id'] = int(f'{diameter_group[0]}{diameter_group[1]}{construction_year_group[0]}{construction_year_group[1]}')\n",
    "        \n",
    "        construction_year_mask_pipes = (pd.to_datetime(model_pipes.Aanlegjaar, format='%Y').dt.year >= construction_year_group[0]) & (pd.to_datetime(model_pipes.Aanlegjaar, format='%Y').dt.year < construction_year_group[1])\n",
    "        model_pipes.loc[construction_year_mask_pipes, 'Construction_year_group'] = f'{construction_year_group[0]} - {construction_year_group[1]}'\n",
    "        model_pipes.loc[(diameter_mask_pipes & construction_year_mask_pipes), 'Group_number'] = group_number\n",
    "        \n",
    "        model_pipes.loc[(diameter_mask_pipes & construction_year_mask_pipes), 'Group_id'] = int(f'{diameter_group[0]}{diameter_group[1]}{construction_year_group[0]}{construction_year_group[1]}')\n",
    "\n",
    "        group_number += 1"
   ]
  },
  {
   "cell_type": "code",
   "execution_count": 189,
   "metadata": {},
   "outputs": [],
   "source": [
    "model_pipes = model_pipes[model_pipes.Group_id.isin(model_failures.Group_id.unique())].copy()"
   ]
  },
  {
   "cell_type": "code",
   "execution_count": 190,
   "metadata": {},
   "outputs": [],
   "source": [
    "model_failures = model_failures[model_failures.Group_id.isin(model_pipes.Group_id.unique())].copy()"
   ]
  },
  {
   "cell_type": "code",
   "execution_count": 191,
   "metadata": {},
   "outputs": [
    {
     "data": {
      "text/plain": [
       "array([16019601970, 16030019601970, 16019501960, 16019902000, 16019801990,\n",
       "       16019401950, 16030019401950, 16030019801990, 16019701980,\n",
       "       16030019701980, 300100019601970, 300100019701980, 16019301940,\n",
       "       16030019501960, 16030019301940, 300100019501960, 16030019902000,\n",
       "       300100019801990, None], dtype=object)"
      ]
     },
     "execution_count": 191,
     "metadata": {},
     "output_type": "execute_result"
    }
   ],
   "source": [
    "model_failures.Group_id.unique()"
   ]
  },
  {
   "cell_type": "code",
   "execution_count": 200,
   "metadata": {},
   "outputs": [
    {
     "ename": "TypeError",
     "evalue": "'<' not supported between instances of 'NoneType' and 'int'",
     "output_type": "error",
     "traceback": [
      "\u001b[1;31m---------------------------------------------------------------------------\u001b[0m",
      "\u001b[1;31mTypeError\u001b[0m                                 Traceback (most recent call last)",
      "Cell \u001b[1;32mIn[200], line 1\u001b[0m\n\u001b[1;32m----> 1\u001b[0m \u001b[43mmodel_pipes\u001b[49m\u001b[38;5;241;43m.\u001b[39;49m\u001b[43mGroup_number\u001b[49m\u001b[38;5;241;43m.\u001b[39;49m\u001b[43munique\u001b[49m\u001b[43m(\u001b[49m\u001b[43m)\u001b[49m\u001b[38;5;241;43m.\u001b[39;49m\u001b[43msort\u001b[49m\u001b[43m(\u001b[49m\u001b[43m)\u001b[49m\n",
      "\u001b[1;31mTypeError\u001b[0m: '<' not supported between instances of 'NoneType' and 'int'"
     ]
    }
   ],
   "source": [
    "model_pipes.Group_number.unique()"
   ]
  },
  {
   "cell_type": "code",
   "execution_count": 198,
   "metadata": {},
   "outputs": [
    {
     "data": {
      "text/plain": [
       "19"
      ]
     },
     "execution_count": 198,
     "metadata": {},
     "output_type": "execute_result"
    }
   ],
   "source": [
    "len(model_failures.Group_number.unique())"
   ]
  }
 ],
 "metadata": {
  "kernelspec": {
   "display_name": "py311",
   "language": "python",
   "name": "python3"
  },
  "language_info": {
   "codemirror_mode": {
    "name": "ipython",
    "version": 3
   },
   "file_extension": ".py",
   "mimetype": "text/x-python",
   "name": "python",
   "nbconvert_exporter": "python",
   "pygments_lexer": "ipython3",
   "version": "3.11.0"
  }
 },
 "nbformat": 4,
 "nbformat_minor": 2
}
