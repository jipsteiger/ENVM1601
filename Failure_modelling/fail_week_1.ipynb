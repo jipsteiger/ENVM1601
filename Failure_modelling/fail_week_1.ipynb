{
 "cells": [
  {
   "cell_type": "code",
   "execution_count": null,
   "metadata": {},
   "outputs": [],
   "source": [
    "import numpy as np\n",
    "import pandas as pd\n",
    "import matplotlib.pyplot as plt\n",
    "import datetime as dt\n",
    "\n",
    "data = pd.read_csv(\n",
    "    \"Failure_modelling/Failure_Data/failures_2010.csv\",\n",
    "    delimiter=\";\",\n",
    "    index_col=3,\n",
    "    parse_dates=True,\n",
    ")\n",
    "data_specific = data[\n",
    "    (data[\"relatie_code\"] == \"A\")\n",
    "    & (data.index.year == 2010)\n",
    "    & (data[\"storing_diameter\"] >= 50)\n",
    "]\n",
    "\n",
    "number_failures = data_specific[\"relatie_code\"].count()\n",
    "total_length = 120000\n",
    "failures_per_km = number_failures / total_length\n",
    "print(f\"{failures_per_km=}\")\n",
    "\n",
    "\n",
    "data_pipes = pd.read_csv(\n",
    "    \"Failure_modelling/Failure_Data/2024_processed_leidingen_glisexport.csv\",\n",
    "    delimiter=\";\",\n",
    "    index_col=0,\n",
    ")\n",
    "data_specific = data_pipes[\n",
    "    (data_pipes[\"Bedrijf\"] == \"A\")\n",
    "    & (data_pipes[\"Batch jaartal\"] == 2010)\n",
    "    & (data_pipes[\"Diameter\"] >= 50)\n",
    "]\n",
    "break_length = data_specific[\"Lengte\"].sum() / 1000\n",
    "print(f\"{break_length=}\")\n",
    "\n",
    "\n",
    "fig, ax = plt.subplots()\n",
    "data_pipes[\"Lengte\"].groupby(data_pipes[\"Aanlegjaar\"]).sum().plot(ax=ax)\n",
    "ax.set_xlim(1900, 2024)\n",
    "plt.grid()\n",
    "plt.show()\n"
   ]
  }
 ],
 "metadata": {
  "language_info": {
   "name": "python"
  }
 },
 "nbformat": 4,
 "nbformat_minor": 2
}
